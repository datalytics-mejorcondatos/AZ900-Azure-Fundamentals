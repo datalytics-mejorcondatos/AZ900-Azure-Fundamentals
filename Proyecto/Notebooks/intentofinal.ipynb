{
 "cells": [
  {
   "cell_type": "code",
   "execution_count": 1,
   "metadata": {},
   "outputs": [],
   "source": [
    "import pandas as pd\n",
    "import requests\n",
    "import io\n",
    "from urllib.parse import urlencode\n",
    "\n",
    "import sys\n",
    "sys.path.append('c:\\\\Users\\\\nataly.ramirez\\\\AZ900-Azure-Fundamentals\\\\')\n",
    "from analisisrentabilidades.funciones import fondofinal\n"
   ]
  },
  {
   "cell_type": "code",
   "execution_count": 2,
   "metadata": {},
   "outputs": [],
   "source": [
    "Lista_fondos = \"https://fiduciaria.grupobancolombia.com/consultarFondosInversion/rest/servicio/consultarListaFondos\"\n",
    "url_base =  \"https://fiduciaria.grupobancolombia.com/consultarFondosInversion/rest/servicio/buscarInformacionFondo/\""
   ]
  },
  {
   "cell_type": "code",
   "execution_count": 3,
   "metadata": {},
   "outputs": [
    {
     "name": "stdout",
     "output_type": "stream",
     "text": [
      "['800241308', '800227622', '900000528', '900000531', '800244627', '900237003', '800180687', '9012636163', '901536211', '901446225-3', '901573146-3', '901574370-1', '901574835-4', '9004381462', '9004724683', '9006349247', '9008966743', '9009585538', '9013917439']\n"
     ]
    },
    {
     "name": "stderr",
     "output_type": "stream",
     "text": [
      "c:\\Users\\nataly.ramirez\\AZ900-Azure-Fundamentals\\analisisrentabilidades\\funciones.py:27: FutureWarning: The default dtype for empty Series will be 'object' instead of 'float64' in a future version. Specify a dtype explicitly to silence this warning.\n",
      "  anual = Totaldf[\"rentabilidad\"].apply(pd.Series).iloc[:,:4].copy()\n",
      "c:\\Users\\nataly.ramirez\\AZ900-Azure-Fundamentals\\analisisrentabilidades\\funciones.py:27: FutureWarning: The default dtype for empty Series will be 'object' instead of 'float64' in a future version. Specify a dtype explicitly to silence this warning.\n",
      "  anual = Totaldf[\"rentabilidad\"].apply(pd.Series).iloc[:,:4].copy()\n",
      "c:\\Users\\nataly.ramirez\\AZ900-Azure-Fundamentals\\analisisrentabilidades\\funciones.py:31: FutureWarning: The default dtype for empty Series will be 'object' instead of 'float64' in a future version. Specify a dtype explicitly to silence this warning.\n",
      "  diarios = Totaldf[\"rentabilidad\"].apply(pd.Series).iloc[:,4:].reset_index(drop=True).copy()\n",
      "c:\\Users\\nataly.ramirez\\AZ900-Azure-Fundamentals\\analisisrentabilidades\\funciones.py:31: FutureWarning: The default dtype for empty Series will be 'object' instead of 'float64' in a future version. Specify a dtype explicitly to silence this warning.\n",
      "  diarios = Totaldf[\"rentabilidad\"].apply(pd.Series).iloc[:,4:].reset_index(drop=True).copy()\n"
     ]
    }
   ],
   "source": [
    "DFfondofinal= fondofinal(Lista_fondos, url_base)"
   ]
  },
  {
   "cell_type": "code",
   "execution_count": 4,
   "metadata": {},
   "outputs": [],
   "source": [
    "DFfondofinal"
   ]
  }
 ],
 "metadata": {
  "kernelspec": {
   "display_name": "base",
   "language": "python",
   "name": "python3"
  },
  "language_info": {
   "codemirror_mode": {
    "name": "ipython",
    "version": 3
   },
   "file_extension": ".py",
   "mimetype": "text/x-python",
   "name": "python",
   "nbconvert_exporter": "python",
   "pygments_lexer": "ipython3",
   "version": "3.9.13"
  },
  "orig_nbformat": 4,
  "vscode": {
   "interpreter": {
    "hash": "694f3dd864be818c4c26e62fe73c1af333a96bdb86f5c5599a8b06ab8c3a3d0c"
   }
  }
 },
 "nbformat": 4,
 "nbformat_minor": 2
}
